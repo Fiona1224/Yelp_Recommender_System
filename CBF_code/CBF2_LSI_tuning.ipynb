{
 "cells": [
  {
   "cell_type": "code",
   "execution_count": 1,
   "metadata": {},
   "outputs": [],
   "source": [
    "import pandas as pd\n",
    "import numpy as np\n",
    "import matplotlib.pyplot as plt\n",
    "\n",
    "from IPython.core.interactiveshell import InteractiveShell\n",
    "InteractiveShell.ast_node_interactivity = \"all\"\n",
    "\n",
    "import os\n",
    "import re, string, unicodedata\n",
    "import nltk\n",
    "import contractions\n",
    "import inflect\n",
    "\n",
    "import lime\n",
    "from lime import lime_text\n",
    "from lime.lime_text import LimeTextExplainer\n",
    "\n",
    "import re\n",
    "\n",
    "from wordcloud import WordCloud, STOPWORDS\n",
    "\n",
    "import nltk\n",
    "# import contractions\n",
    "import inflect\n",
    "from nltk import word_tokenize, sent_tokenize\n",
    "from nltk.corpus import stopwords\n",
    "from nltk import SnowballStemmer\n",
    "from nltk.stem import LancasterStemmer, WordNetLemmatizer\n",
    "\n",
    "\n",
    "from sklearn import metrics\n",
    "from sklearn.model_selection import train_test_split\n",
    "# from keras.preprocessing.sequence import pad_sequences\n",
    "\n",
    "from sklearn.metrics import confusion_matrix, classification_report\n",
    "from sklearn.feature_extraction.text import TfidfVectorizer\n",
    "from sklearn.decomposition import TruncatedSVD\n",
    "from sklearn.metrics.pairwise import cosine_similarity\n",
    "from sklearn.metrics import mean_squared_error\n",
    "from sklearn.metrics import mean_absolute_error\n",
    "from sklearn.metrics.pairwise import euclidean_distances\n",
    "from sklearn.preprocessing import StandardScaler\n",
    "from sklearn.preprocessing import OneHotEncoder\n",
    "\n",
    "import scipy\n",
    "\n",
    "from gensim import corpora\n",
    "from gensim import corpora\n",
    "from gensim.similarities.docsim import Similarity\n",
    "from gensim import corpora, models, similarities\n",
    "\n",
    "import pickle\n",
    "import time\n",
    "import Utils as util"
   ]
  },
  {
   "cell_type": "code",
   "execution_count": 2,
   "metadata": {},
   "outputs": [
    {
     "name": "stdout",
     "output_type": "stream",
     "text": [
      "unique users in training set: 25108\n",
      "unique businesses in training set: 4312\n",
      "unique users in test set: 25108\n",
      "unique businesses in test set: 4059\n"
     ]
    }
   ],
   "source": [
    "rev_busi= pd.read_csv('filtered_reviews.csv', parse_dates=[\"date\"])\n",
    "train_valid_df  = pickle.load(open('train_valid_df.pkl', \"rb\"))\n",
    "test_df = pickle.load(open('test_df.pkl', \"rb\"))\n",
    "\n",
    "train_df  = pickle.load(open('train_df.pkl', \"rb\"))\n",
    "valid_df = pickle.load(open('valid_df.pkl', \"rb\"))\n",
    "\n",
    "bus_df_subset = pd.read_csv(\"business_subset_cleaned.csv\", index_col= \"business_id\")\n",
    "print(\"unique users in training set:\", train_valid_df[\"user_id\"].nunique())\n",
    "print(\"unique businesses in training set:\", train_valid_df[\"business_id\"].nunique())\n",
    "print(\"unique users in test set:\", test_df[\"user_id\"].nunique())\n",
    "print(\"unique businesses in test set:\", test_df[\"business_id\"].nunique())"
   ]
  },
  {
   "cell_type": "code",
   "execution_count": 3,
   "metadata": {},
   "outputs": [
    {
     "name": "stdout",
     "output_type": "stream",
     "text": [
      "time elapsed: (seconds)\n",
      "25312.705\n"
     ]
    },
    {
     "data": {
      "text/html": [
       "<div>\n",
       "<style scoped>\n",
       "    .dataframe tbody tr th:only-of-type {\n",
       "        vertical-align: middle;\n",
       "    }\n",
       "\n",
       "    .dataframe tbody tr th {\n",
       "        vertical-align: top;\n",
       "    }\n",
       "\n",
       "    .dataframe thead th {\n",
       "        text-align: right;\n",
       "    }\n",
       "</style>\n",
       "<table border=\"1\" class=\"dataframe\">\n",
       "  <thead>\n",
       "    <tr style=\"text-align: right;\">\n",
       "      <th></th>\n",
       "      <th>ks</th>\n",
       "      <th>n_topics</th>\n",
       "      <th>sample_size</th>\n",
       "      <th>rmse</th>\n",
       "      <th>mae</th>\n",
       "    </tr>\n",
       "  </thead>\n",
       "  <tbody>\n",
       "    <tr>\n",
       "      <th>0</th>\n",
       "      <td>50</td>\n",
       "      <td>50</td>\n",
       "      <td>25108</td>\n",
       "      <td>1.197266</td>\n",
       "      <td>0.914948</td>\n",
       "    </tr>\n",
       "    <tr>\n",
       "      <th>1</th>\n",
       "      <td>50</td>\n",
       "      <td>100</td>\n",
       "      <td>25108</td>\n",
       "      <td>1.197292</td>\n",
       "      <td>0.914984</td>\n",
       "    </tr>\n",
       "    <tr>\n",
       "      <th>2</th>\n",
       "      <td>50</td>\n",
       "      <td>150</td>\n",
       "      <td>25108</td>\n",
       "      <td>1.197285</td>\n",
       "      <td>0.914960</td>\n",
       "    </tr>\n",
       "    <tr>\n",
       "      <th>3</th>\n",
       "      <td>50</td>\n",
       "      <td>200</td>\n",
       "      <td>25108</td>\n",
       "      <td>1.197284</td>\n",
       "      <td>0.914957</td>\n",
       "    </tr>\n",
       "  </tbody>\n",
       "</table>\n",
       "</div>"
      ],
      "text/plain": [
       "   ks n_topics sample_size      rmse       mae\n",
       "0  50       50       25108  1.197266  0.914948\n",
       "1  50      100       25108  1.197292  0.914984\n",
       "2  50      150       25108  1.197285  0.914960\n",
       "3  50      200       25108  1.197284  0.914957"
      ]
     },
     "execution_count": 3,
     "metadata": {},
     "output_type": "execute_result"
    },
    {
     "name": "stdout",
     "output_type": "stream",
     "text": [
      "   ks n_topics sample_size      rmse       mae\n",
      "0  50       50       25108  1.197266  0.914948\n"
     ]
    }
   ],
   "source": [
    "t0 = time.time()\n",
    "df_pred_results_lsi1 = pd.DataFrame(columns= [\"ks\",\"n_topics\",\"sample_size\", \"rmse\", \"mae\"])\n",
    "# sample_sizes = [100]\n",
    "ks = [50]\n",
    "n_topics = [50, 100, 150, 200]\n",
    "df_texts = pickle.load(open('text_train_valid_df.pkl', \"rb\")) # text data processed in the previous step\n",
    "# for sample_size in sample_sizes:\n",
    "for k in ks:\n",
    "    for n_topic in n_topics:\n",
    "        test = util.CB_LSI_predict(df_texts,train_df, valid_df, k = k, n_topics = n_topic)\n",
    "        rmse = mean_squared_error(test.dropna().pred_lsi, test.dropna().ratings)**0.5\n",
    "        mae = mean_absolute_error(test.dropna().pred_lsi, test.dropna().ratings)\n",
    "        dfnew = pd.DataFrame({\"ks\": k, \"n_topics\": n_topic,\"sample_size\": len(test_df),\n",
    "                              \"rmse\": rmse, \"mae\": mae}, index=[0])\n",
    "        # df_pred_results_lsi1 = df_pred_results_lsi1.append({\"ks\": k, \"n_topics\": n_topic,\"sample_size\": len(test_df),\n",
    "        #                         \"rmse\": rmse, \"mae\": mae}, ignore_index = True)\n",
    "        df_pred_results_lsi1 = pd.concat([df_pred_results_lsi1, dfnew], ignore_index=True)\n",
    "t1=  time.time()\n",
    "print(\"time elapsed: (seconds)\")\n",
    "print(np.round(t1- t0,3))\n",
    "\n",
    "df_pred_results_lsi1\n",
    "print(df_pred_results_lsi1.loc[df_pred_results_lsi1[\"rmse\"] == np.min(df_pred_results_lsi1.rmse),])\n",
    "\n"
   ]
  },
  {
   "cell_type": "code",
   "execution_count": 4,
   "metadata": {},
   "outputs": [],
   "source": [
    "df_pred_results_lsi1.to_csv(\"Results_CB_LSI.csv\", index = False)\n"
   ]
  },
  {
   "cell_type": "code",
   "execution_count": 6,
   "metadata": {},
   "outputs": [
    {
     "data": {
      "text/plain": [
       "Text(0.5, 1.0, 'Content Based Model (LSI) : n_topics vs MSE')"
      ]
     },
     "execution_count": 6,
     "metadata": {},
     "output_type": "execute_result"
    },
    {
     "data": {
      "image/png": "[encoded data removed]",
      "text/plain": [
       "<Figure size 640x480 with 1 Axes>"
      ]
     },
     "metadata": {},
     "output_type": "display_data"
    }
   ],
   "source": [
    "optimal = df_pred_results_lsi1.loc[df_pred_results_lsi1[\"rmse\"] == np.min(df_pred_results_lsi1.rmse),]\n",
    "plt.figure()\n",
    "plt.plot(df_pred_results_lsi1[\"n_topics\"], df_pred_results_lsi1[\"rmse\"]**2, label = \"MSE\")\n",
    "plt.plot(optimal[\"n_topics\"], optimal[\"rmse\"]**2, \"ro\", label = \"Optimal n_topics: {}\".format(50))\n",
    "plt.legend()\n",
    "plt.xlabel(\"n_topics\")\n",
    "plt.ylabel(\"MSE\")\n",
    "plt.title(\"Content Based Model (LSI) : n_topics vs MSE\")"
   ]
  },
  {
   "cell_type": "code",
   "execution_count": null,
   "metadata": {},
   "outputs": [],
   "source": []
  }
 ],
 "metadata": {
  "kernelspec": {
   "display_name": "dl",
   "language": "python",
   "name": "python3"
  },
  "language_info": {
   "codemirror_mode": {
    "name": "ipython",
    "version": 3
   },
   "file_extension": ".py",
   "mimetype": "text/x-python",
   "name": "python",
   "nbconvert_exporter": "python",
   "pygments_lexer": "ipython3",
   "version": "3.8.19"
  },
  "varInspector": {
   "cols": {
    "lenName": 16,
    "lenType": 16,
    "lenVar": 40
   },
   "kernels_config": {
    "python": {
     "delete_cmd_postfix": "",
     "delete_cmd_prefix": "del ",
     "library": "var_list.py",
     "varRefreshCmd": "print(var_dic_list())"
    },
    "r": {
     "delete_cmd_postfix": ") ",
     "delete_cmd_prefix": "rm(",
     "library": "var_list.r",
     "varRefreshCmd": "cat(var_dic_list()) "
    }
   },
   "types_to_exclude": [
    "module",
    "function",
    "builtin_function_or_method",
    "instance",
    "_Feature"
   ],
   "window_display": false
  }
 },
 "nbformat": 4,
 "nbformat_minor": 4
}
